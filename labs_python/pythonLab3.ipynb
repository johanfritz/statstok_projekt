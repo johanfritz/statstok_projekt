{
 "cells": [
  {
   "cell_type": "markdown",
   "metadata": {},
   "source": [
    "Stationary stochastic processes,<br>\n",
    "Lund University, <br>\n",
    "Centre for Mathematical Sciences HT 2024, <br>\n",
    "Mathematical Statistics\n",
    "\n",
    "# Computer exercise 3 (Ladok-Lab 2b)\n",
    "\n",
    "In this computer exercise you will investigate the concepts of leakage, resolution and variance for different periodogram-based spectral estimation techniques. You will also study the importance of using zero-mean data and zero-padding, exemplified in the estimation of sunspot data periodicity. Finally, you will compute and investigate coherence of multi-channel electrical signals measured from the brain during a flickering light experiment.\n",
    "***\n",
    "* Please work in groups of two students!\n",
    "***"
   ]
  },
  {
   "cell_type": "code",
   "execution_count": 3,
   "metadata": {},
   "outputs": [],
   "source": [
    "# Imports\n",
    "import numpy as np\n",
    "import scipy.signal\n",
    "import scipy.io as sio\n",
    "from scipy.fft import fft, ifft\n",
    "from matplotlib import pyplot as plt\n",
    "\n",
    "from help_funcs_SSP import calculate_pmtm\n",
    "\n",
    "# Data loading for the exercise\n",
    "path_to_data = \"sunspotdata.mat\" # Change to YOUR path to data.\n",
    "mat = sio.loadmat(path_to_data,simplify_cells=True)\n",
    "dataold = mat[\"dataold\"]\n",
    "datanew = mat[\"datanew\"]\n",
    "timeold = mat[\"timeold\"]\n",
    "timenew = mat[\"timenew\"]\n",
    "path_to_data = \"eegsingle.mat\" # Change to YOUR path to data.\n",
    "mat = sio.loadmat(path_to_data,simplify_cells=True)\n",
    "eegsingle = mat[\"eeg\"]\n",
    "time = mat[\"time\"]\n",
    "path_to_data = \"eegmulti.mat\" # Change to YOUR path to data.\n",
    "mat = sio.loadmat(path_to_data,simplify_cells=True)\n",
    "eegmulti = mat[\"eegmat\"]\n",
    "channels = mat[\"channels\"]"
   ]
  },
  {
   "cell_type": "markdown",
   "metadata": {},
   "source": [
    "## 1 Investigation of spectral estimation techniques for simulated data\n",
    "\n",
    "The commonly applied periodogram-based spectral estimation techniques have different advantages and drawbacks which are important to recognize. The spectral estimate from a specific technique could be a powerful tool for showing properties of data but could also be completely useless as the method might hide important information. We will compare the spectral estimates of the most commonly applied techniques for sequences of simulated data from an ARMA-process.   \n",
    "\n",
    "### 1.1 Leakage comparison of periodogram-based methods\n",
    "\n",
    "Simulate a 500 sample realization of an ARMA(4,2)-process"
   ]
  },
  {
   "cell_type": "code",
   "execution_count": null,
   "metadata": {},
   "outputs": [],
   "source": [
    "e = np.random.randn(1000,1)\n",
    "A = [1, -2.39, 3.35, -2.34, 0.96]\n",
    "C = [1, 0, 0.999]\n",
    "x = scipy.signal.lfilter(C, A, e,axis=0)\n",
    "x = x[500:]\n",
    "plt.plot(x);"
   ]
  },
  {
   "cell_type": "markdown",
   "metadata": {},
   "source": [
    "The true spectral density is shown in Figure~1, page 2. We assume that the realization `x` is sampled with $f_s=100$ Hz. Create the corresponding timescale `tvect` and plot the data,"
   ]
  },
  {
   "cell_type": "code",
   "execution_count": null,
   "metadata": {},
   "outputs": [],
   "source": [
    "# Write your own code below\n",
    "\n",
    "\n",
    "# Plotting\n",
    "plt.plot(tvect,x);"
   ]
  },
  {
   "cell_type": "markdown",
   "metadata": {},
   "source": [
    "Estimate and plot the spectral density in dB-scale using the periodogram function, with zero-padding up to FFT-length `nfft=4096`, using `scipy.signal.periodogram(x,fs=?,nfft=?,axis=0)`"
   ]
  },
  {
   "cell_type": "code",
   "execution_count": null,
   "metadata": {},
   "outputs": [],
   "source": [
    "# Write your own code below\n",
    "\n",
    "\n",
    "# The true spectrum of the process\n",
    "w,h = scipy.signal.freqz(C,A,worN=4096)\n",
    "R = np.abs(h)**2\n",
    "plt.plot(w/2/np.pi*fs,10*np.log10(R/fs))\n",
    "plt.xlabel(\"Frequency\")\n",
    "plt.ylabel(\"Power\")\n",
    "plt.ylim([-100,50])\n",
    "plt.title(\"The true spectral density of the ARMA(4,2) proc.\");"
   ]
  },
  {
   "cell_type": "markdown",
   "metadata": {},
   "source": [
    "Compare your periodogram estimate to the true spectral density in Figure~1 and verify that the peaks of your estimate are at the correct frequency locations. Run the above commands again, starting with the simulation of a new noise sequence `e` to receive a new realization `x`. Plot the corresponding periodogram together with the previous one or in another figure. Compare the two periodograms with the true spectral density.\n",
    "\n",
    "***Q1. For which frequency band do you find the bias to be large independently of the realization you analyse? Explain why the bias is large in this specific frequency band.***\n",
    "\n",
    "For a decrease in the bias, the spectral leakage needs to be reduced. Compute and plot a spectral estimate using a Hanning windowed, (modified) periodogram,\n",
    "`scipy.signal.periodogram(x,fs=?,nfft=?,axis=0,window='hann')`. Repeat the modified periodogram calculation above for a new realization `x` and plot the resulting spectral estimate. Note that the variance between estimates of different realizations still is large."
   ]
  },
  {
   "cell_type": "code",
   "execution_count": null,
   "metadata": {},
   "outputs": [],
   "source": [
    "# Write your own code below:\n",
    "\n",
    "\n",
    "# The true spectrum of the process\n",
    "w,h = scipy.signal.freqz(C,A,worN=4096)\n",
    "R = np.abs(h)**2\n",
    "plt.plot(w/2/np.pi*fs,10*np.log10(R/fs))\n",
    "plt.xlabel(\"Frequency\")\n",
    "plt.ylabel(\"Power\")\n",
    "plt.title(\"The true spectral density of the ARMA(4,2) proc.\");"
   ]
  },
  {
   "cell_type": "markdown",
   "metadata": {},
   "source": [
    "***Q2. Explain, by referring to height of window sidelobes and comparing to the sidelobes of the ordinary periodogram (see course book page 248), why the bias is reduced in the modified periodogram?***'\n",
    "\n",
    "### 1.2 The balance between resolution and variance reduction of periodogram-based methods\n",
    "\n",
    "The variance between the spectral estimates of different realizations of a process is large for both the periodogram and the modified periodogram. The variance can be reduced if the available data sequence is split into several shorter sequences. From each sequence a modified periodogram is computed and finally all the periodograms are averaged. The method is referred to as the Welch method. Apply the Welch method with $10$ time-shifted Hanning windows and 50\\% overlap  for the above ARMA-process with 500 samples. Compute the resulting window length `L` of the time-shifted Hanning window."
   ]
  },
  {
   "cell_type": "markdown",
   "metadata": {},
   "source": [
    "***Q3. What is the resulting value of `L`?***\n",
    "\n",
    "Use your calculated value of `L`  as input variable to the function `scipy.signal.welch()`, where `L/2` as the `noverlap` variable will result in 50\\% overlap. Apply the Welch method to a few different realizations of your ARMA-process, and compare the view  of the different spectral estimates. "
   ]
  },
  {
   "cell_type": "code",
   "execution_count": null,
   "metadata": {},
   "outputs": [],
   "source": [
    "# Write your own code below\n",
    "\n",
    "\n",
    "# Estimate with Welch method\n",
    "f, P = scipy.signal.welch(x, fs=fs, nfft=nfft, window='hann', nperseg=L,noverlap=L/2,axis=0)\n",
    "plt.plot(f,10*np.log10(P))\n",
    "# The true spectrum of the process\n",
    "w,h = scipy.signal.freqz(C,A,worN=4096)\n",
    "R = np.abs(h)**2\n",
    "plt.plot(w/2/np.pi*fs,10*np.log10(R/fs))\n",
    "plt.xlabel(\"Frequency\")\n",
    "plt.ylabel(\"Power\")\n",
    "plt.title(\"The true spectral density of the ARMA(4,2) proc.\");"
   ]
  },
  {
   "cell_type": "markdown",
   "metadata": {},
   "source": [
    "***Q4. How can you see that the variance  is reduced for the Welch method in comparison to the variance of the modified periodogram?***\n",
    "\n",
    "The gain in reduced variance comes with a decrease in resolution.  \n",
    "\n",
    "***Q5. In what part of the spectral estimate from the Welch method  is the decreased resolution most clearly seen? Explain the decreased resolution by referring to window length and corresponding mainlobe width of the Hanning window (see course book page 248-249).***\n",
    "\n",
    "\n",
    "### 1.3 Comparison of variances for different methods\n",
    "A simple comparison of the variances for different methods  can be made from a white noise sequence, e.g. the previously computed input sequence `e`. As the spectral density of a white noise sequence should be a constant level, with all values corresponding to the variance of the noise, we can calculate the variance of this level  from a single spectral estimate and compare different methods. Compare the modified periodogram and the Welch method estimated as\n",
    "\n",
    "    scipy.signal.periodogram(e,fs=fs,nfft=nfft,axis=0,window='hann')\n",
    "    scipy.signal.welch(e, fs=fs, nfft=nfft, window='hann', nperseg=L,noverlap=L/2,axis=0)\n",
    "\n",
    "Plot the resulting spectral estimates and compute the variances of `Rhate` and `Rhatew` respectively, and the ratio of them, i.e., \n",
    "`np.var(Rhate)/np.var(Rhatew)`. Repeat this a few times for new simulations of the white noise sequence."
   ]
  },
  {
   "cell_type": "code",
   "execution_count": null,
   "metadata": {},
   "outputs": [],
   "source": [
    "# Write your own code below"
   ]
  },
  {
   "cell_type": "markdown",
   "metadata": {},
   "source": [
    "***Q6. What is the average relation between the two variances? What value do you expect, according to theory?***\n",
    "\n",
    "## 2 Sunspot data\n",
    "Sunspots are specific areas on the Sun surface where the magnetic field is much higher than in other areas.  During sunspot maxima, the Earth will see an increase in the Northern and Southern Lights and the resulting geomagnetic storms could also cause disruption in radio transmissions and power grids.  The storms can also change polarity in satellites, which will damage the  electronics.  The largest recorded geomagnetic storm, the Carrington Event in September 1859, destroyed parts of the new US telegraph network.  The modelling of sunspot maxima are therefore of high importance to protect and prepare for damages of the important electronic systems that we rely on in society.\n",
    "\n",
    "The data set in Figure~2 is found at the Sunspot Index and Long-term Solar Observations (silso) webpage\\footnote{https://www.sidc.be/silso/home}.  Two shorter sequences of monthly means from 17 years each are cut from the above data set, one  including 1859, `timeold`, `dataold` and one from recent years, `timenew`, `datanew`.  These shorter sequences are found in  the file `sunspotdata`. \n",
    "\n",
    "*Figure: Sunspot data,  from 1749 until the beginning of 2022, as monthly means.*\n",
    "\n",
    "![sunspotdata.png](sunspotdata.png)\n",
    "\n"
   ]
  },
  {
   "cell_type": "markdown",
   "metadata": {},
   "source": [
    "### 2.1 The advantage of zero-mean data\n",
    "In this exercise you should estimate the oscillation period and frequency of the two sequences, `dataold` and `datanew`. Plot the data and verify that the sequences are sampled with  12 samples every year, i.e. one sample each month. An approximate estimate of the oscillation period can be found directly from the depicted data sequence by measuring the number of months of one period (the distance between two peaks)."
   ]
  },
  {
   "cell_type": "code",
   "execution_count": null,
   "metadata": {},
   "outputs": [],
   "source": [
    "# Write your own code below"
   ]
  },
  {
   "cell_type": "markdown",
   "metadata": {},
   "source": [
    "***Q7. Which are the main oscillation periods of the two data sequences, expressed in months? Also calculate the corresponding frequency value i.e. one over the oscillation period.***\n",
    "\n",
    "To estimate oscillation period and corresponding frequency directly from data might be tricky as it is difficult to decide where an actual period starts and ends.  Therefore we apply the periodogram and we estimate the oscillation frequency as the frequency value corresponding to the strongest spectral peak. \n",
    "\n",
    "To avoid falling into tricky Matlab-traps with strange normalization of axes and power values, you are encouraged to code your own periodograms using the following code, where `data` is either `dataold` or `datanew`. The resulting periodogram estimate is presented without power dB-scale and with normalized frequency scale. Zoom in to the range around the approximate frequencies found in Q7. "
   ]
  },
  {
   "cell_type": "code",
   "execution_count": null,
   "metadata": {},
   "outputs": [],
   "source": [
    "# Write your own code below:\n",
    "\n",
    "\n",
    "# Periodogram\n",
    "X = fft(data)\n",
    "N = len(data)\n",
    "Rhat = (X*np.conj(X))/N\n",
    "f = np.arange(N)/N\n",
    "\n",
    "# Plotting\n",
    "plt.plot(f,Rhat);"
   ]
  },
  {
   "cell_type": "markdown",
   "metadata": {},
   "source": [
    "***Q8. Explain and discuss what you see in your periodograms. Where do the strong spectral peaks at frequency zero come from? Do you find spectral peaks at frequencies that correspond to your estimated frequency values in Q7?***\n",
    "\n",
    "To avoid leakage from the power at frequency zero, which might hide the interesting frequency information, you should compare your estimates with mean value corrected (zero-mean) sequences. Apply your periodogram to the zero-mean sequence, `data0=dataold-np.mean(dataold)`, and then similarly for the mean value corrected `datanew`."
   ]
  },
  {
   "cell_type": "code",
   "execution_count": null,
   "metadata": {},
   "outputs": [],
   "source": [
    "# Write your own code below"
   ]
  },
  {
   "cell_type": "markdown",
   "metadata": {},
   "source": [
    "***Q9. What is the difference between the periodograms of the zero-mean signals and the original signals?***\n",
    "### 2.2 The advantage of zero-padding data\n",
    "\n",
    "Unfortunately, the resulting frequencies corresponding to the strong peaks in your periodograms will  correspond exactly to either $2/204\\approx 0.0098$ or $1/204\\approx 0.0049$  where 204 is the lengths of your data sequences. As the spectral estimates are computed for a sparse grid of frequency values, the periodogram will show a strong peak at one of the above frequencies, even if the actual signal frequency is something else.  For short sequences, the  frequency grid is too sparse to give a good estimate of the actual frequency value. To create a more dense grid of possible frequencies, zero-padding is applied. You should code the zero-padded FFT to be used in your periodogram as the following code, with `nfft` chosen as e.g. 2048, 4096 or 8192. Note that the normalizing factor of the spectral estimate should still be the data length `N` and not the FFT-length `nfft`. Apply your code to the zero-mean corrected signals and study and compare the resulting periodograms."
   ]
  },
  {
   "cell_type": "code",
   "execution_count": null,
   "metadata": {},
   "outputs": [],
   "source": [
    "# Write your own code below:"
   ]
  },
  {
   "cell_type": "markdown",
   "metadata": {},
   "source": [
    "***Q10. What are the frequency estimates of the strongest peaks  in the zero-padded periodograms?  Are the values in concordance with your estimated  periods from the sequence plots given in Q7?***\n",
    "\n",
    "## 3 Spectral analysis of neural oscillations\n",
    "\n",
    "The measurements of the electrical signals using electrodes on the scalp are called ElectroEncephaloGram (EEG)  and are often clinically used for\n",
    "detection of tumors, damage, inflammation, stroke and sleep disorders.  In general, the EEG signal is a non-stationary process, but for shorter periods\n",
    "(1-2 seconds), the EEG activity can be assumed to be stationary. In this exercise we will  examine EEG signals measured during experiments with flickering light.  A flickering light  is sometimes used as stimulus to trigger a seizure for diagnosis and localization of photosensitive epilepsy. Also for a person without epilepsy, the response of such a stimulus is strong, shown as a periodic variation (fundamental tone and harmonics) of the same frequency as the flickering light.\n",
    "\n",
    "### 3.1 Estimation of an unknown flickering light frequency\n",
    "\n",
    "In `eegsingle`, such a flickering light trigger has been used as stimulus and the resulting measurement is found in the variable `eegsingle`.  We are also given the information that the flickering light was present only in the middle part of the measured sequence. The time scale of the samples is given in the variable `time`. "
   ]
  },
  {
   "cell_type": "code",
   "execution_count": null,
   "metadata": {},
   "outputs": [],
   "source": [
    "# Write your own code below"
   ]
  },
  {
   "cell_type": "markdown",
   "metadata": {},
   "source": [
    "***Q11. What sampling frequency has been used in the measurement?***\n",
    "\n",
    "Apply the periodogram, similar as in the previous exercise and study the resulting figure. To be able to identify the response at the actual frequency, specify the frequency scale to be in Hz. Don't forget to adjust the sequence to have zero-mean!"
   ]
  },
  {
   "cell_type": "code",
   "execution_count": null,
   "metadata": {},
   "outputs": [],
   "source": [
    "# Write your own code below:"
   ]
  },
  {
   "cell_type": "markdown",
   "metadata": {},
   "source": [
    "***Q12. The flickering light frequency should show up as a fundamental tone in the EEG. Can you determine this frequency?***\n",
    "\n",
    "To estimate the flickering light frequency from the EEG also in this case where we have a very strong stimulus which gives a visible response in the EEG. Most stimulus give a much weaker response in the EEG. As we know that the flickering light is not present in the whole sequence it is wise to use the spectrogram instead of the periodogram.  Apply a spectrogram by using the function `scipy.signal.spectrogram(x,fs=?, noverlap=?, window='hann', nperseg=?,nfft=?)` and view the resulting plot. Change the input variables window length, overlap and number of frequency values `NFFT`  for a better view. \n"
   ]
  },
  {
   "cell_type": "code",
   "execution_count": null,
   "metadata": {},
   "outputs": [],
   "source": [
    "# Write your own code below"
   ]
  },
  {
   "cell_type": "markdown",
   "metadata": {},
   "source": [
    "***Q13. Can you determine the frequency of the flickering light, which we know is present as stimulus for some seconds  in the middle of the sequence?***\n",
    "\n",
    "### 3.2 Multitaper spectral estimation of EEG\n",
    "Next, `eegmulti` which contains about 5 s of a multi-channel EEG measured according to the 10-20 system, see Figure below, stored in the variable `eegmat`. The time scale of the samples are given in the variable `time`. Check the time scale and compute the sampling frequency.\n",
    "\n",
    "The 19 channel measurements are ordered as column vectors according to the order in the variable `channels`. The channel order is also presented here in the order of the corresponding column vector in the data matrix: Fp1(1) Fp2(2) F3(3) F4(4) C3(5) C4(6) P3(7) P4(8) O1(9) O2(10) F7(11) F8(12) T3(13) T4(14) T5(15) T6(16) Fz(17) Cz(18) Pz(19). (The positions A1 and A2 are not used in this measurement setup.) A flickering light trigger of 15 Hz has been used as stimulus during all 5 seconds. As the stimulus is visual, we can expect the strongest response in the channels close to the visual centre in the Occipital lobe  (O1 and O2). \n",
    "\n",
    "Figure: Channel locations, [en.wikipedia.org/wiki/10–20 system (EEG)]\n",
    "\n",
    "<img src=\"Int10-20.png\" width=\"300\">\n",
    "\n",
    "Plot the data and make sure you can pick out a single channel as a column vector from the data matrix.   Then adjust each data vector  to have zero-mean! Apply the Welch method using the window length `L=256` of the time-shifted Hanning window, and  use default window overlap 50\\%, similar as in section~1, to visualize the 15 Hz response. Calculate the number of windows of your Welch method estimator. **Note that the number of windows has to be an integer, to be chosen so all the applied windows really cover a complete data sequence!**\n"
   ]
  },
  {
   "cell_type": "markdown",
   "metadata": {},
   "source": [
    "***Q14.  Sketch and explain how you find the number of windows.***\n",
    "\n",
    " Plot a Welch method periodogram of a channel where you can see the 15 Hz frequency (it is not clearly visible in all channels). Here, plot in log-scale.\n"
   ]
  },
  {
   "cell_type": "code",
   "execution_count": null,
   "metadata": {},
   "outputs": [],
   "source": [
    "# Write your own code below"
   ]
  },
  {
   "cell_type": "markdown",
   "metadata": {},
   "source": [
    "***Q15. Can you see any additional strong frequencies?***\n",
    "\n",
    "The Thomson multitaper method give similar results as the Welch method but uses the information in data in a more clever way. The number of applied multitapers are `K=2NW-1`, where the time-bandwidth product `NW` is specified as input of the function `pmtm`.  Choose `K` to be the same number of tapers as for the number of windows of the Welch method above, and compute the corresponding `NW`. Use this value and compute the Thomson multitaper spectrum as `pmtm(data0,NW,NFFT,fs)`, where `data0` is a chosen channel (column vector) from the matrix `eegmat` which has been corrected to zero-mean."
   ]
  },
  {
   "cell_type": "code",
   "execution_count": null,
   "metadata": {},
   "outputs": [],
   "source": [
    "# Write your own code below"
   ]
  },
  {
   "cell_type": "markdown",
   "metadata": {},
   "source": [
    "***Q16. Which method gives the best visual picture of the 15 Hz response?***\n",
    "\n",
    "***Q17. Assuming that both the Welch estimator and the Thomson estimator are based on averaged sub-spectra that are uncorrelated, which of the two methods will have the smallest variance in your examples above?***\n",
    "\n",
    "### 3.3 Coherence and correlation of multi-channel EEG\n",
    "\n",
    "EEG measured from the scalp suffer from strong correlation for closely spaced channels. If the electrodes are placed at a larger distance from each other, the more uncorrelated are the measurements expected to be. In this exercise you will verify that this is true from the previous experiment using  some available spectral methods and statistical tools.\n",
    "\n",
    "Choose the channel O2 as the reference channel. Measure the (Euclidean) distance between channel O2 and all other channels directly from the figure showing channel positions. The exact measurement values are not of interest, so e.g. rescaling the figure on a screen is not a problem. Order your distance values in a vector according to the given channel order above. Include channel O2 as the distance zero.\n",
    "\n"
   ]
  },
  {
   "cell_type": "markdown",
   "metadata": {},
   "source": [
    "***Q18. If you consider that the measurements are performed from a real world 3-dimensional head, what are the possible errors of estimating the distance between channels from Figure 3?***\n",
    "\n",
    "To measure the correlation of two channels, we apply the magnitude squared coherence defined as $\\kappa^2(f)=\\frac{|\\hat R_{xy}(f)|^2}{\\hat R_x(f)\\hat R_y(f)}$. The advantage of using the coherence in comparison to the more commonly applied time-based correlation, is the possibility to limit the correlation measure to a certain frequency interval, that is of specific interest. In the following, we will extract a frequency interval around 15 Hz and estimate the average coherence in the interval.\n",
    "\n",
    "You can use the built-in function `mscohere` which automatically computes the coherence function with use of the Welch method cross- and auto-spectra,\n",
    "`kappa2,f = scipy.signal.coherence(data0[:,ch1], data0[:,ch2], fs=fs, window='hann', nperseg=?, noverlap=?, nfft=?, axis=-1)`, where `data0[:,ch1]` and  `data0[:,ch2]` are two  zero-mean data sequences representing channel \\verb+ch1+ and \\verb+ch2+. Plot a few examples of the  magnitude squared coherence for different channel pairs, `plt.plot(f,kappa2)`. You should see the strongest coherence around 15 Hz compared to surrounding frequencies,  for most of the channel pairs.\n"
   ]
  },
  {
   "cell_type": "code",
   "execution_count": 19,
   "metadata": {},
   "outputs": [
    {
     "data": {
      "text/plain": [
       "[<matplotlib.lines.Line2D at 0x15a1a2d1070>]"
      ]
     },
     "execution_count": 19,
     "metadata": {},
     "output_type": "execute_result"
    },
    {
     "data": {
      "image/png": "[encoded data removed]",
      "text/plain": [
       "<Figure size 640x480 with 1 Axes>"
      ]
     },
     "metadata": {},
     "output_type": "display_data"
    }
   ],
   "source": [
    "#  Write your own code below"
   ]
  },
  {
   "cell_type": "markdown",
   "metadata": {},
   "source": [
    "***Q19. Decide the frequency interval, including 15 Hz, which shows a strong coherence.***"
   ]
  },
  {
   "cell_type": "markdown",
   "metadata": {},
   "source": [
    "Find the corresponding indices of this frequency interval in the coherence (most easily the indices are extracted from the frequency output vector `f`). \n",
    "\n",
    "Calculate the average of the coherence over these indices  and store the  averages in a vector **in the same order as the channel data specified above**. Include the coherence for channel O2 with itself (should be one for all frequencies!). \n",
    " \n",
    "Plot the distance vector and the average coherence vector in the same plot and study the result. You need to normalize the two vectors to a similar range (e.g. normalize all your values in the distance with the maximum distance) to be able to see something of interest. Finally, compute the (Pearson's r) correlation coefficient between the two vectors using `scipy.stats.pearsonr(x,y)`. "
   ]
  },
  {
   "cell_type": "code",
   "execution_count": null,
   "metadata": {},
   "outputs": [],
   "source": [
    "# Write your own code below"
   ]
  },
  {
   "cell_type": "markdown",
   "metadata": {},
   "source": [
    "***Q20. Are the two vectors correlated? What is the correlation coefficient value? Is this in accordance with your expectations? Explain why!***"
   ]
  }
 ],
 "metadata": {
  "kernelspec": {
   "display_name": "Python 3 (ipykernel)",
   "language": "python",
   "name": "python3"
  },
  "language_info": {
   "codemirror_mode": {
    "name": "ipython",
    "version": 3
   },
   "file_extension": ".py",
   "mimetype": "text/x-python",
   "name": "python",
   "nbconvert_exporter": "python",
   "pygments_lexer": "ipython3",
   "version": "3.12.4"
  }
 },
 "nbformat": 4,
 "nbformat_minor": 4
}
